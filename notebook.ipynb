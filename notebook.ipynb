{
 "cells": [
  {
   "cell_type": "markdown",
   "metadata": {},
   "source": [
    "<h1 style='text-align:center; font-weight: bold; color: orange'>Regular Expression for Rule-Based Content Moderation</h1>"
   ]
  },
  {
   "cell_type": "markdown",
   "metadata": {},
   "source": [
    "**Scenario**: A company needs to ensure that the communication between employees remains friendly by automatically detecting and censoring inappropriate words (*fuck*, *shit*, and *ass*) in real-time. When an inappropriate word is detected, the system should replace it with a censorship marking.\n",
    "\n",
    "**Approach**: Build a rule-based content moderation system using regular expression. This rule-based approach is chosen due to its the following advantages over machine learning approach. First, a rule-based system is simpler and faster to implement. What is needed is a comprehensive list of defined expressions. Second, unlike ML approach, especially the black-box one, the rule-based approach is more transparent and easy to understand by the stakeholders. If matching with any defined expressions in the list, the system should censor the word. Third, as it is rule-based, every word matching those listed will be catched, making it more effective to censor the inappropriate expressions."
   ]
  },
  {
   "cell_type": "code",
   "execution_count": 49,
   "metadata": {},
   "outputs": [],
   "source": [
    "import re       # for regex pattern\n",
    "import csv      # for importing word list"
   ]
  },
  {
   "cell_type": "markdown",
   "metadata": {},
   "source": [
    "To build the rule-based content moderation, two libraries will be used. First, `re` will be for handling the regular (henceforth 'regex') patterns for detecting and replacing the defined inappropriate words into asterisk, representing the censored word. Second, `csv` is used for importing the word list."
   ]
  },
  {
   "cell_type": "code",
   "execution_count": 52,
   "metadata": {},
   "outputs": [],
   "source": [
    "# build function to censor message\n",
    "def censor_message(message, blacklisted_words):\n",
    "    # specify regex pattern for all bad words\n",
    "    pattern = '|'.join(map(re.escape, blacklisted_words))\n",
    "    # Replace offensive words and phrases with asterisks of the same length\n",
    "    censored_message = re.sub(pattern, lambda m: '*' * len(m.group()), message, flags=re.IGNORECASE)\n",
    "    return censored_message"
   ]
  },
  {
   "cell_type": "markdown",
   "metadata": {},
   "source": [
    "Above is a function, namely `censor_message()` to replace any detected inappropriate words into asterisk. The function requires two arguments, i.e., `message` (message to check) and `blacklisted_words` (a list of censored words in English). In this example, the system will only handle English language even though the regex patterns can also be used to handle other languages with Latin alphabets (e.g., Indonesian, Javanese, or Sundanese).\n",
    "\n",
    "- `pattern = '|'.join(map(re.escape, blacklisted_words))`: This line specifies the regex pattern for detecting `blacklisted_words` in the `message` input. The function `map` applies the function `escape` from library `re` to every word in the `blacklisted_words`. The function `re.escape` serves to make sure if any special characters (e.g., dot \".\" or asterisk \"*\") are escaped. They need to be treated in a special manner as they have special purposes in regular expressions. \n",
    "    - For example, \".\" us used to match any single character. When we want to detect any single character after the word \"ball\", we can use pattern `ball.`, and it will return \"balla\", \"ballb\", or \"ballc\".\n",
    "    - In the case of asterisk (*), this regex character matches zero or more occurrences of the following elements in a string. Regex pattern `acqui*` will matches \"acquire\", \"acquiring\", \"acquired\", \"acquisition\", and so on. \n",
    "    - Furthermore, `'|'.join()` instructs Python to join all words using `|` as the separator.\n",
    "- `censored_message = re.sub(pattern, lambda m: '*' * len(m.group()), message, flags=re.IGNORECASE)`: This searches any words in `message` input matching `pattern` (previous line). If matching, Python will replace the blacklisted words with asterisk (\"*\") with the same length as the blacklisted word. And last, the `flags=re.IGNORECASE` ignores the lettercase of the word."
   ]
  },
  {
   "cell_type": "code",
   "execution_count": 53,
   "metadata": {},
   "outputs": [
    {
     "name": "stdout",
     "output_type": "stream",
     "text": [
      "File loaded.\n"
     ]
    }
   ],
   "source": [
    "# load bad word list\n",
    "wordlist = []\n",
    "with open('data/badword_list.csv', 'r') as file:\n",
    "    csv_reader = csv.reader(file)\n",
    "    for row in csv_reader:\n",
    "        wordlist.extend(row)\n",
    "    print('File loaded.')"
   ]
  },
  {
   "cell_type": "markdown",
   "metadata": {},
   "source": [
    "The code above loads `badword_list.csv`, which was obtained from [Kaggle](https://www.kaggle.com/datasets/tushifire/ldnoobw?resource=download) into Jupyter notebook. After succesfully imported, the Python will print \"File loaded.\", to let us know if the file has been loaded. "
   ]
  },
  {
   "cell_type": "code",
   "execution_count": 58,
   "metadata": {},
   "outputs": [],
   "source": [
    "# remove empty strings from the bad word list\n",
    "wordlist = list(filter(None, wordlist))\n",
    "\n",
    "# define messages to check\n",
    "messages = [\n",
    "    \"I'll take an annual leave on Sep 22\",\n",
    "    \"I can't hold this shitty situation anymore!\",\n",
    "    \"You bitch don't mess with me!\"\n",
    "]"
   ]
  },
  {
   "cell_type": "markdown",
   "metadata": {},
   "source": [
    "In addition to defining messages to check, the code also removes any empty strings from `wordlist` (if any). What I mean by empty string is something like `''` in the list."
   ]
  },
  {
   "cell_type": "code",
   "execution_count": 59,
   "metadata": {},
   "outputs": [
    {
     "name": "stdout",
     "output_type": "stream",
     "text": [
      "Original: I'll take an annual leave on Sep 22\n",
      "Censored: I'll take an annual leave on Sep 22\n",
      "\n",
      "Original: I can't hold this shitty situation anymore!\n",
      "Censored: I can't hold this ****ty situation anymore!\n",
      "\n",
      "Original: You bitch don't mess with me!\n",
      "Censored: You ***** don't mess with me!\n",
      "\n"
     ]
    }
   ],
   "source": [
    "# censor message\n",
    "censored_messages = [censor_message(msg, wordlist) for msg in messages]\n",
    "\n",
    "# display both original and censored versions\n",
    "for original, censored in zip(messages, censored_messages):\n",
    "    print(f\"Original: {original}\")\n",
    "    print(f\"Censored: {censored}\\n\")"
   ]
  },
  {
   "cell_type": "markdown",
   "metadata": {},
   "source": [
    "The two codes above iterates through each `msg` in the `message` list. For each `msg`, use the `censor_message` to check if any word in `msg` appears in the blacklisted words (`wordlist`). If the `censored_messages` variable is printed, a list of messages, including the censored one (if any), will be shown (see below). \n",
    "\n",
    "The next code continues the previous process and iterates through both list of original messages and censored messages to display both versions. "
   ]
  },
  {
   "cell_type": "code",
   "execution_count": 63,
   "metadata": {},
   "outputs": [
    {
     "data": {
      "text/plain": [
       "[\"I'll take an annual leave on Sep 22\",\n",
       " \"I can't hold this ****ty situation anymore!\",\n",
       " \"You ***** don't mess with me!\"]"
      ]
     },
     "metadata": {},
     "output_type": "display_data"
    }
   ],
   "source": [
    "# check content\n",
    "display(censored_messages)"
   ]
  }
 ],
 "metadata": {
  "kernelspec": {
   "display_name": "Python 3",
   "language": "python",
   "name": "python3"
  },
  "language_info": {
   "codemirror_mode": {
    "name": "ipython",
    "version": 3
   },
   "file_extension": ".py",
   "mimetype": "text/x-python",
   "name": "python",
   "nbconvert_exporter": "python",
   "pygments_lexer": "ipython3",
   "version": "3.9.16"
  }
 },
 "nbformat": 4,
 "nbformat_minor": 2
}
